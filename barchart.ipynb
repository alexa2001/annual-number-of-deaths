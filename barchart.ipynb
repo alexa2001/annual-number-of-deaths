{
 "cells": [
  {
   "cell_type": "code",
   "execution_count": 2,
   "metadata": {},
   "outputs": [
    {
     "data": {
      "image/png": "[encoded data removed]",
      "text/plain": [
       "<Figure size 432x288 with 1 Axes>"
      ]
     },
     "metadata": {
      "needs_background": "light"
     },
     "output_type": "display_data"
    },
    {
     "name": "stdout",
     "output_type": "stream",
     "text": [
      "Spain:  [295429.00000000006, 293955.0, 291085.0]\n",
      "Mexico:  [519025.0, 513871.99999999994, 504085.0]\n"
     ]
    }
   ],
   "source": [
    "import matplotlib.pyplot as plt\n",
    "import pandas as pd\n",
    "import csv\n",
    "import numpy as np\n",
    "\n",
    "data = pd.read_csv('annual-number-of-deaths-by-world-region.csv')\n",
    "\n",
    "labels = ['1950', '1951', '1952']\n",
    "\n",
    "spain = []\n",
    "mexico = []\n",
    "\n",
    "with open(\"annual-number-of-deaths-by-world-region.csv\", \"r\") as input_file:\n",
    "    reader = csv.reader(input_file)\n",
    "    next(reader) #skip the header name\n",
    "    for entity, code, year, estimates in reader:\n",
    "        if entity == \"Spain\" and (year == '1950' or year == '1951' or year == '1952'):\n",
    "            spain.append(float(estimates))\n",
    "        if entity == \"Mexico\" and (year == '1950' or year == '1951' or year == '1952'):\n",
    "            mexico.append(float(estimates)) \n",
    "        \n",
    "\n",
    "# for entity, code, year, estimates in data:\n",
    "#     if entity == \"Spain\" and (year == '1950' or year == '1951' or year == '1952'):\n",
    "#         spain.append(estimates)\n",
    "#     if entity == \"Mexico\" and (year == '1950' or year == '1951' or year == '1952'):\n",
    "#         mexico.append(estimates) \n",
    "        \n",
    "x = np.arange(len(labels))  # the label locations\n",
    "width = 0.35  # the width of the bars\n",
    "\n",
    "fig, ax = plt.subplots()\n",
    "rects1 = ax.bar(x - width/2, spain, width, label='Spain')\n",
    "rects2 = ax.bar(x + width/2, mexico, width, label='Mexico')\n",
    "\n",
    "ax.set_ylabel('Death Estimates')\n",
    "ax.set_title('Year and Country')\n",
    "\n",
    "ax.set_xticks(x)\n",
    "ax.set_xticklabels(labels)\n",
    "\n",
    "ax.legend()\n",
    "\n",
    "# ax.bar_label(rects1, padding=3)\n",
    "# ax.bar_label(rects2, padding=3)\n",
    "\n",
    "fig.tight_layout()\n",
    "\n",
    "plt.show()\n",
    "\n",
    "print(\"Spain: \", spain)\n",
    "print(\"Mexico: \", mexico)\n"
   ]
  },
  {
   "cell_type": "code",
   "execution_count": null,
   "metadata": {},
   "outputs": [],
   "source": []
  }
 ],
 "metadata": {
  "kernelspec": {
   "display_name": "Python 3",
   "language": "python",
   "name": "python3"
  },
  "language_info": {
   "codemirror_mode": {
    "name": "ipython",
    "version": 3
   },
   "file_extension": ".py",
   "mimetype": "text/x-python",
   "name": "python",
   "nbconvert_exporter": "python",
   "pygments_lexer": "ipython3",
   "version": "3.6.9"
  }
 },
 "nbformat": 4,
 "nbformat_minor": 2
}
